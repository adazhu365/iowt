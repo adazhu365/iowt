{
 "cells": [
  {
   "cell_type": "code",
   "execution_count": 1,
   "metadata": {},
   "outputs": [],
   "source": [
    "import numpy as np\n",
    "import pandas as pd\n",
    "import matplotlib.pyplot as plt\n",
    "import os"
   ]
  },
  {
   "cell_type": "markdown",
   "metadata": {},
   "source": [
    "Load the Data"
   ]
  },
  {
   "cell_type": "code",
   "execution_count": 9,
   "metadata": {},
   "outputs": [
    {
     "name": "stdout",
     "output_type": "stream",
     "text": [
      "stats: ['mean', 'max']\n",
      "distance: ['3', '5', '10', '15']\n",
      "labels: [\"'cup'\", \" 'bottle'\", \" 'person'\"]\n",
      "objs: ['Coke_Can', 'Gatorade_bottle', 'water_bottle', 'Sprite_Can', 'MountainDew_bottle']\n",
      "cams: ['cam_0', 'cam_1', 'cam_2']\n",
      "Shape corresponds to:  (stats , distance , label , obj , cam_num, 1, 1)\n",
      "(2, 4, 3, 5, 3, 1, 1)\n"
     ]
    }
   ],
   "source": [
    "def load_data():\n",
    "    root_dir = os.path.join(os.getcwd(), '../videos')\n",
    "    file_name = os.path.join(root_dir, 'all_data.csv')\n",
    "    data = []\n",
    "    with open(file_name, 'r') as f:\n",
    "        for line in f:\n",
    "            data.append(line.split(','))\n",
    "\n",
    "    def get_row_labels(col_num):\n",
    "        # put min max labels in stats\n",
    "        row_labels = []\n",
    "        i = 0\n",
    "        while i <len(data) and data[i][col_num] not in row_labels:\n",
    "            if data[i][col_num] != '': row_labels.append(data[i][col_num])\n",
    "            i += 1\n",
    "        return row_labels\n",
    "\n",
    "    dists = get_row_labels(0)\n",
    "    stats = get_row_labels(1)\n",
    "    data = [line[2:-1] for line in data]\n",
    "    cams = [entry for entry in data[0] if entry != '']\n",
    "    objs = [entry for entry in data[1] if entry != '']\n",
    "    labels = [entry for entry in data[2] if entry != '']\n",
    "    num_objs = len(set(objs))\n",
    "    objs = objs[:num_objs]\n",
    "    num_labels = len(set(labels))\n",
    "    labels = labels[:num_labels]\n",
    "    data = data[3:]\n",
    "\n",
    "    data_categories = [stats, dists,labels,objs,cams]\n",
    "    data = np.asarray(data).astype(np.float)\n",
    "    # create a data tensor with dimension\n",
    "    # min_max x distance x label x obj x cam_num\n",
    "    data = np.stack(np.split(data, len(cams), axis=1), axis=0)\n",
    "    data = np.stack(np.split(data, len(objs), axis=2), axis=0)\n",
    "    data = np.stack(np.split(data, len(labels), axis=3), axis=0)\n",
    "    data = np.stack(np.split(data, len(dists), axis=3), axis=0)\n",
    "    data = np.stack(np.split(data, len(stats), axis=4), axis=0)\n",
    "    print('stats: ' + str(stats))\n",
    "    print('distance: ' + str(dists))\n",
    "    print('labels: ' + str(labels))\n",
    "    print('objs: ' + str(objs))\n",
    "    print('cams: ' + str(cams))\n",
    "    print('Shape corresponds to:  (stats , distance , label , obj , cam_num, 1, 1)')\n",
    "    print(data.shape)\n",
    "    return data, data_categories\n",
    "\n",
    "data,data_categories = load_data()\n",
    "\n",
    "np.delete(data, data[:,:,0,[1,2,4],:,:]) #delete irrelevant data\n",
    "np.delete(data, data[:,:,1,[0,3],:,:]) #delete irrelevant data\n",
    "np.delete(data, data[:,:,2,:,:,:], axis = 2) #remove person confidence data"
   ]
  },
  {
   "cell_type": "code",
   "execution_count": 18,
   "metadata": {},
   "outputs": [
    {
     "name": "stdout",
     "output_type": "stream",
     "text": [
      "mean object vs probability\n",
      "[('Coke_Can', 0.34371758618012627), ('Gatorade_bottle', 0.4028096111146388), ('water_bottle', 0.37684994882179634), ('Sprite_Can', 0.352941971341217), ('MountainDew_bottle', 0.41061199768273915)]\n"
     ]
    },
    {
     "data": {
      "image/png": "[encoded data removed]",
      "text/plain": [
       "<Figure size 432x288 with 1 Axes>"
      ]
     },
     "metadata": {
      "needs_background": "light"
     },
     "output_type": "display_data"
    },
    {
     "name": "stdout",
     "output_type": "stream",
     "text": [
      "max object vs probability\n",
      "[('Coke_Can', 0.5732727448145548), ('Gatorade_bottle', 0.5844377825657526), ('water_bottle', 0.6148187153869205), ('Sprite_Can', 0.6103454894489713), ('MountainDew_bottle', 0.6131155441204706)]\n"
     ]
    },
    {
     "data": {
      "image/png": "[encoded data removed]",
      "text/plain": [
       "<Figure size 432x288 with 1 Axes>"
      ]
     },
     "metadata": {
      "needs_background": "light"
     },
     "output_type": "display_data"
    }
   ],
   "source": [
    "title =\"mean object vs probability\"\n",
    "print(title)\n",
    "category_num = 3 #obj\n",
    "avg_prob = data[0] # 0 - mean, 1 - max\n",
    "avg_prob = np.mean(avg_prob, axis=tuple([i for i in range(avg_prob.ndim) if i != category_num - 1]))\n",
    "print(list(zip(data_categories[category_num], avg_prob)))\n",
    "plt.title(title)\n",
    "plt.xlabel = 'label'\n",
    "plt.ylabel = 'probability'\n",
    "plt.scatter(data_categories[category_num], avg_prob)\n",
    "plt.show()\n",
    "\n",
    "title =\"max object vs probability\"\n",
    "print(title)\n",
    "avg_prob = data[1] # 0 - mean, 1 - max\n",
    "avg_prob = np.mean(avg_prob, axis=tuple([i for i in range(avg_prob.ndim) if i != category_num - 1]))\n",
    "print(list(zip(data_categories[category_num], avg_prob)))\n",
    "plt.title(title)\n",
    "plt.xlabel = 'label'\n",
    "plt.ylabel = 'probability'\n",
    "plt.scatter(data_categories[category_num], avg_prob)\n",
    "plt.show()"
   ]
  },
  {
   "cell_type": "code",
   "execution_count": 11,
   "metadata": {},
   "outputs": [
    {
     "name": "stdout",
     "output_type": "stream",
     "text": [
      "mean distance vs probability\n",
      "[('3', 0.4126239035858049), ('5', 0.4119122980810978), ('10', 0.34679971013908034), ('15', 0.3382089803064311)]\n"
     ]
    },
    {
     "data": {
      "image/png": "[encoded data removed]",
      "text/plain": [
       "<Figure size 432x288 with 1 Axes>"
      ]
     },
     "metadata": {
      "needs_background": "light"
     },
     "output_type": "display_data"
    },
    {
     "name": "stdout",
     "output_type": "stream",
     "text": [
      "max distance vs probability\n",
      "[('3', 0.7508398400412666), ('5', 0.6783342414432102), ('10', 0.5509084277682834), ('15', 0.4167097118165758)]\n"
     ]
    },
    {
     "data": {
      "image/png": "[encoded data removed]",
      "text/plain": [
       "<Figure size 432x288 with 1 Axes>"
      ]
     },
     "metadata": {
      "needs_background": "light"
     },
     "output_type": "display_data"
    }
   ],
   "source": [
    "title = \"mean distance vs probability\"\n",
    "print(title)\n",
    "category_num = 1 #distance\n",
    "avg_prob = data[0] # 0 - mean, 1 - max\n",
    "avg_prob = np.mean(avg_prob, axis=tuple([i for i in range(avg_prob.ndim) if i != category_num - 1]))\n",
    "print(list(zip(data_categories[category_num], avg_prob)))\n",
    "plt.title(title)\n",
    "plt.xlabel = 'distance'\n",
    "plt.ylabel = 'probability'\n",
    "plt.scatter(data_categories[category_num], avg_prob)\n",
    "plt.show()\n",
    "\n",
    "title=\"max distance vs probability\"\n",
    "print(title)\n",
    "category_num = 1 #distance\n",
    "avg_prob = data[1] # 0 - mean, 1 - max\n",
    "avg_prob = np.mean(avg_prob, axis=tuple([i for i in range(avg_prob.ndim) if i != category_num - 1]))\n",
    "print(list(zip(data_categories[category_num], avg_prob)))\n",
    "plt.title(title)\n",
    "plt.xlabel = 'distance'\n",
    "plt.ylabel = 'probability'\n",
    "plt.scatter(data_categories[category_num], avg_prob)\n",
    "plt.show()"
   ]
  },
  {
   "cell_type": "code",
   "execution_count": 12,
   "metadata": {},
   "outputs": [
    {
     "name": "stdout",
     "output_type": "stream",
     "text": [
      "camera vs probability\n",
      "[('cam_0', 0.3731091208424833), ('cam_1', 0.40672301073041245), ('cam_2', 0.352326537511415)]\n"
     ]
    },
    {
     "data": {
      "image/png": "[encoded data removed]",
      "text/plain": [
       "<Figure size 432x288 with 1 Axes>"
      ]
     },
     "metadata": {
      "needs_background": "light"
     },
     "output_type": "display_data"
    },
    {
     "name": "stdout",
     "output_type": "stream",
     "text": [
      "max camera vs probability\n",
      "[('cam_0', 0.5979068795839946), ('cam_1', 0.6794879108667373), ('cam_2', 0.52019937535127)]\n"
     ]
    },
    {
     "data": {
      "image/png": "[encoded data removed]",
      "text/plain": [
       "<Figure size 432x288 with 1 Axes>"
      ]
     },
     "metadata": {
      "needs_background": "light"
     },
     "output_type": "display_data"
    }
   ],
   "source": [
    "title = \"camera vs probability\"\n",
    "print(title)\n",
    "category_num = 4 # camera num\n",
    "avg_prob = data[0] # 0 - mean, 1 - max\n",
    "avg_prob = np.mean(avg_prob, axis=tuple([i for i in range(avg_prob.ndim) if i != category_num - 1]))\n",
    "print(list(zip(data_categories[category_num], avg_prob)))\n",
    "plt.title(title)\n",
    "plt.xlabel = 'camera'\n",
    "plt.ylabel = 'probability'\n",
    "plt.scatter(data_categories[category_num], avg_prob)\n",
    "plt.show()\n",
    "\n",
    "title=\"max camera vs probability\"\n",
    "print(title)\n",
    "category_num = 4 #camera num\n",
    "avg_prob = data[1] # 0 - mean, 1 - max\n",
    "avg_prob = np.mean(avg_prob, axis=tuple([i for i in range(avg_prob.ndim) if i != category_num - 1]))\n",
    "print(list(zip(data_categories[category_num], avg_prob)))\n",
    "plt.title(title)\n",
    "plt.xlabel = 'camera'\n",
    "plt.ylabel = 'probability'\n",
    "plt.scatter(data_categories[category_num], avg_prob)\n",
    "plt.show()"
   ]
  },
  {
   "cell_type": "code",
   "execution_count": 13,
   "metadata": {},
   "outputs": [
    {
     "ename": "SyntaxError",
     "evalue": "invalid syntax (<ipython-input-13-45143d240ae9>, line 6)",
     "traceback": [
      "\u001b[0;36m  File \u001b[0;32m\"<ipython-input-13-45143d240ae9>\"\u001b[0;36m, line \u001b[0;32m6\u001b[0m\n\u001b[0;31m    Shape corresponds to:  (stats , distance , label , obj , cam_num, 1, 1)\u001b[0m\n\u001b[0m                    ^\u001b[0m\n\u001b[0;31mSyntaxError\u001b[0m\u001b[0;31m:\u001b[0m invalid syntax\n"
     ],
     "output_type": "error"
    }
   ],
   "source": [
    ""
   ]
  },
  {
   "cell_type": "code",
   "execution_count": 19,
   "metadata": {},
   "outputs": [
    {
     "name": "stdout",
     "output_type": "stream",
     "text": [
      "average mean \n",
      "[('Coke_Can', array([0.32837577])), ('Gatorade_bottle', array([0.35747807])), ('water_bottle', array([0.34529892]))]\n"
     ]
    },
    {
     "ename": "ValueError",
     "evalue": "x and y must be the same size",
     "traceback": [
      "\u001b[0;31m---------------------------------------------------------------------------\u001b[0m",
      "\u001b[0;31mValueError\u001b[0m                                Traceback (most recent call last)",
      "\u001b[0;32m<ipython-input-19-283f7e1e4012>\u001b[0m in \u001b[0;36m<module>\u001b[0;34m\u001b[0m\n\u001b[1;32m     10\u001b[0m     \u001b[0mplt\u001b[0m\u001b[0;34m.\u001b[0m\u001b[0mxlabel\u001b[0m \u001b[0;34m=\u001b[0m \u001b[0;34m'camera'\u001b[0m\u001b[0;34m\u001b[0m\u001b[0;34m\u001b[0m\u001b[0m\n\u001b[1;32m     11\u001b[0m     \u001b[0mplt\u001b[0m\u001b[0;34m.\u001b[0m\u001b[0mylabel\u001b[0m \u001b[0;34m=\u001b[0m \u001b[0;34m'probability'\u001b[0m\u001b[0;34m\u001b[0m\u001b[0;34m\u001b[0m\u001b[0m\n\u001b[0;32m---> 12\u001b[0;31m     \u001b[0mplt\u001b[0m\u001b[0;34m.\u001b[0m\u001b[0mscatter\u001b[0m\u001b[0;34m(\u001b[0m\u001b[0mdata_categories\u001b[0m\u001b[0;34m[\u001b[0m\u001b[0mcategory_num\u001b[0m\u001b[0;34m]\u001b[0m\u001b[0;34m,\u001b[0m \u001b[0mavg_prob\u001b[0m\u001b[0;34m)\u001b[0m\u001b[0;34m\u001b[0m\u001b[0;34m\u001b[0m\u001b[0m\n\u001b[0m\u001b[1;32m     13\u001b[0m     \u001b[0mplt\u001b[0m\u001b[0;34m.\u001b[0m\u001b[0mshow\u001b[0m\u001b[0;34m(\u001b[0m\u001b[0;34m)\u001b[0m\u001b[0;34m\u001b[0m\u001b[0;34m\u001b[0m\u001b[0m\n\u001b[1;32m     14\u001b[0m \u001b[0;34m\u001b[0m\u001b[0m\n",
      "\u001b[0;32m~/Codes/anaconda3/lib/python3.6/site-packages/matplotlib/pyplot.py\u001b[0m in \u001b[0;36mscatter\u001b[0;34m(x, y, s, c, marker, cmap, norm, vmin, vmax, alpha, linewidths, verts, edgecolors, data, **kwargs)\u001b[0m\n\u001b[1;32m   2862\u001b[0m         \u001b[0mvmin\u001b[0m\u001b[0;34m=\u001b[0m\u001b[0mvmin\u001b[0m\u001b[0;34m,\u001b[0m \u001b[0mvmax\u001b[0m\u001b[0;34m=\u001b[0m\u001b[0mvmax\u001b[0m\u001b[0;34m,\u001b[0m \u001b[0malpha\u001b[0m\u001b[0;34m=\u001b[0m\u001b[0malpha\u001b[0m\u001b[0;34m,\u001b[0m \u001b[0mlinewidths\u001b[0m\u001b[0;34m=\u001b[0m\u001b[0mlinewidths\u001b[0m\u001b[0;34m,\u001b[0m\u001b[0;34m\u001b[0m\u001b[0;34m\u001b[0m\u001b[0m\n\u001b[1;32m   2863\u001b[0m         verts=verts, edgecolors=edgecolors, **({\"data\": data} if data\n\u001b[0;32m-> 2864\u001b[0;31m         is not None else {}), **kwargs)\n\u001b[0m\u001b[1;32m   2865\u001b[0m     \u001b[0msci\u001b[0m\u001b[0;34m(\u001b[0m\u001b[0m__ret\u001b[0m\u001b[0;34m)\u001b[0m\u001b[0;34m\u001b[0m\u001b[0;34m\u001b[0m\u001b[0m\n\u001b[1;32m   2866\u001b[0m     \u001b[0;32mreturn\u001b[0m \u001b[0m__ret\u001b[0m\u001b[0;34m\u001b[0m\u001b[0;34m\u001b[0m\u001b[0m\n",
      "\u001b[0;32m~/Codes/anaconda3/lib/python3.6/site-packages/matplotlib/__init__.py\u001b[0m in \u001b[0;36minner\u001b[0;34m(ax, data, *args, **kwargs)\u001b[0m\n\u001b[1;32m   1808\u001b[0m                         \u001b[0;34m\"the Matplotlib list!)\"\u001b[0m \u001b[0;34m%\u001b[0m \u001b[0;34m(\u001b[0m\u001b[0mlabel_namer\u001b[0m\u001b[0;34m,\u001b[0m \u001b[0mfunc\u001b[0m\u001b[0;34m.\u001b[0m\u001b[0m__name__\u001b[0m\u001b[0;34m)\u001b[0m\u001b[0;34m,\u001b[0m\u001b[0;34m\u001b[0m\u001b[0;34m\u001b[0m\u001b[0m\n\u001b[1;32m   1809\u001b[0m                         RuntimeWarning, stacklevel=2)\n\u001b[0;32m-> 1810\u001b[0;31m             \u001b[0;32mreturn\u001b[0m \u001b[0mfunc\u001b[0m\u001b[0;34m(\u001b[0m\u001b[0max\u001b[0m\u001b[0;34m,\u001b[0m \u001b[0;34m*\u001b[0m\u001b[0margs\u001b[0m\u001b[0;34m,\u001b[0m \u001b[0;34m**\u001b[0m\u001b[0mkwargs\u001b[0m\u001b[0;34m)\u001b[0m\u001b[0;34m\u001b[0m\u001b[0;34m\u001b[0m\u001b[0m\n\u001b[0m\u001b[1;32m   1811\u001b[0m \u001b[0;34m\u001b[0m\u001b[0m\n\u001b[1;32m   1812\u001b[0m         inner.__doc__ = _add_data_doc(inner.__doc__,\n",
      "\u001b[0;32m~/Codes/anaconda3/lib/python3.6/site-packages/matplotlib/axes/_axes.py\u001b[0m in \u001b[0;36mscatter\u001b[0;34m(self, x, y, s, c, marker, cmap, norm, vmin, vmax, alpha, linewidths, verts, edgecolors, **kwargs)\u001b[0m\n\u001b[1;32m   4180\u001b[0m         \u001b[0my\u001b[0m \u001b[0;34m=\u001b[0m \u001b[0mnp\u001b[0m\u001b[0;34m.\u001b[0m\u001b[0mma\u001b[0m\u001b[0;34m.\u001b[0m\u001b[0mravel\u001b[0m\u001b[0;34m(\u001b[0m\u001b[0my\u001b[0m\u001b[0;34m)\u001b[0m\u001b[0;34m\u001b[0m\u001b[0;34m\u001b[0m\u001b[0m\n\u001b[1;32m   4181\u001b[0m         \u001b[0;32mif\u001b[0m \u001b[0mx\u001b[0m\u001b[0;34m.\u001b[0m\u001b[0msize\u001b[0m \u001b[0;34m!=\u001b[0m \u001b[0my\u001b[0m\u001b[0;34m.\u001b[0m\u001b[0msize\u001b[0m\u001b[0;34m:\u001b[0m\u001b[0;34m\u001b[0m\u001b[0;34m\u001b[0m\u001b[0m\n\u001b[0;32m-> 4182\u001b[0;31m             \u001b[0;32mraise\u001b[0m \u001b[0mValueError\u001b[0m\u001b[0;34m(\u001b[0m\u001b[0;34m\"x and y must be the same size\"\u001b[0m\u001b[0;34m)\u001b[0m\u001b[0;34m\u001b[0m\u001b[0;34m\u001b[0m\u001b[0m\n\u001b[0m\u001b[1;32m   4183\u001b[0m \u001b[0;34m\u001b[0m\u001b[0m\n\u001b[1;32m   4184\u001b[0m         \u001b[0;32mif\u001b[0m \u001b[0ms\u001b[0m \u001b[0;32mis\u001b[0m \u001b[0;32mNone\u001b[0m\u001b[0;34m:\u001b[0m\u001b[0;34m\u001b[0m\u001b[0;34m\u001b[0m\u001b[0m\n",
      "\u001b[0;31mValueError\u001b[0m: x and y must be the same size"
     ],
     "output_type": "error"
    },
    {
     "data": {
      "image/png": "[encoded data removed]",
      "text/plain": [
       "<Figure size 432x288 with 1 Axes>"
      ]
     },
     "metadata": {
      "needs_background": "light"
     },
     "output_type": "display_data"
    }
   ],
   "source": [
    "category_num1 = 3\n",
    "for i in range(data.shape[3]):\n",
    "    title = \"average mean \"\n",
    "    print(title)\n",
    "    category_num2 = 4 # camera num\n",
    "    avg_prob = data[0,:,:,i,:,:,:] # 0 - mean, 1 - max\n",
    "    avg_prob = np.mean(avg_prob, axis=tuple([i for i in range(avg_prob.ndim) if i not in [category_num1-1, category_num2-1]]))\n",
    "    print(list(zip(data_categories[category_num], avg_prob)))\n",
    "    plt.title(title)\n",
    "    plt.xlabel = 'camera'\n",
    "    plt.ylabel = 'probability'\n",
    "    plt.scatter(data_categories[category_num], avg_prob)\n",
    "    plt.show()\n",
    "\n",
    "    title=\"average max camera vs probability\"\n",
    "    print(title)\n",
    "    category_num = 4 #camera num\n",
    "    avg_prob = data[1] # 0 - mean, 1 - max\n",
    "    avg_prob = np.mean(avg_prob, axis=tuple([i for i in range(avg_prob.ndim) if i != category_num - 1]))\n",
    "    print(list(zip(data_categories[category_num], avg_prob)))\n",
    "    plt.title(title)\n",
    "    plt.xlabel = 'camera'\n",
    "    plt.ylabel = 'probability'\n",
    "    plt.scatter(data_categories[category_num], avg_prob)\n",
    "    plt.show()"
   ]
  },
  {
   "cell_type": "code",
   "execution_count": null,
   "metadata": {},
   "outputs": [],
   "source": []
  },
  {
   "cell_type": "code",
   "execution_count": null,
   "metadata": {},
   "outputs": [],
   "source": []
  },
  {
   "cell_type": "code",
   "execution_count": null,
   "metadata": {},
   "outputs": [],
   "source": []
  },
  {
   "cell_type": "code",
   "execution_count": null,
   "metadata": {},
   "outputs": [],
   "source": []
  }
 ],
 "metadata": {
  "kernelspec": {
   "display_name": "Python 3",
   "language": "python",
   "name": "python3"
  },
  "language_info": {
   "codemirror_mode": {
    "name": "ipython",
    "version": 3
   },
   "file_extension": ".py",
   "mimetype": "text/x-python",
   "name": "python",
   "nbconvert_exporter": "python",
   "pygments_lexer": "ipython3",
   "version": "3.6.8"
  }
 },
 "nbformat": 4,
 "nbformat_minor": 2
}
